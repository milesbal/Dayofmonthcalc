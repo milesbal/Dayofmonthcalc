{
 "cells": [
  {
   "cell_type": "code",
   "execution_count": 9,
   "id": "75e53692-cf95-4d4c-8a46-2fcc342afe20",
   "metadata": {},
   "outputs": [
    {
     "name": "stdout",
     "output_type": "stream",
     "text": [
      "Nombre de mercredis pour 03-2020: 4\n",
      "Nombre de mercredis pour 04-2020: 5\n",
      "Nombre de mercredis pour 08-2020: 4\n",
      "Nombre de mercredis pour 06-2021: 5\n",
      "Nombre de mercredis pour 07-2021: 4\n",
      "Nombre de mercredis pour 08-2021: 4\n",
      "Nombre de mercredis pour 09-2021: 5\n",
      "Nombre de mercredis pour 07-2023: 4\n",
      "Nombre de mercredis pour 08-2023: 5\n"
     ]
    }
   ],
   "source": [
    "from datetime import datetime, timedelta\n",
    "\n",
    "def count_wednesdays(year, month):\n",
    "    # Trouver le premier jour du mois\n",
    "    first_day = datetime(year, month, 1)\n",
    "    # Trouver le premier mercredi du mois\n",
    "    first_wednesday = first_day + timedelta(days=(2 - first_day.weekday() + 7) % 7)\n",
    "    \n",
    "    count = 0\n",
    "    current_day = first_wednesday\n",
    "\n",
    "    # Compter tous les mercredis dans le mois\n",
    "    while current_day.month == month:\n",
    "        count += 1\n",
    "        current_day += timedelta(days=7)\n",
    "\n",
    "    return count\n",
    "\n",
    "# Liste des mois et années pour lesquels compter les mercredis\n",
    "months_to_check = [\n",
    "    (2020, 3), (2020, 4), (2020, 8),\n",
    "    (2021, 6), (2021, 7), (2021, 8), (2021, 9),\n",
    "    (2023, 7), (2023, 8)\n",
    "]\n",
    "\n",
    "# Calcul et affichage du nombre de mercredis pour chaque mois\n",
    "for year, month in months_to_check:\n",
    "    num_wednesdays = count_wednesdays(year, month)\n",
    "    print(f\"Nombre de mercredis pour {month:02d}-{year}: {num_wednesdays}\")"
   ]
  },
  {
   "cell_type": "code",
   "execution_count": null,
   "id": "e2b984b7-b077-44a6-9aa0-7e6a498e0550",
   "metadata": {},
   "outputs": [],
   "source": []
  }
 ],
 "metadata": {
  "kernelspec": {
   "display_name": "Python 3 (ipykernel)",
   "language": "python",
   "name": "python3"
  },
  "language_info": {
   "codemirror_mode": {
    "name": "ipython",
    "version": 3
   },
   "file_extension": ".py",
   "mimetype": "text/x-python",
   "name": "python",
   "nbconvert_exporter": "python",
   "pygments_lexer": "ipython3",
   "version": "3.12.5"
  }
 },
 "nbformat": 4,
 "nbformat_minor": 5
}
